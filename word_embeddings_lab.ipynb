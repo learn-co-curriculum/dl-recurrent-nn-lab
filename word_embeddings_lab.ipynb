{
 "cells": [
  {
   "cell_type": "markdown",
   "metadata": {},
   "source": [
    "# Word embeddings"
   ]
  },
  {
   "cell_type": "markdown",
   "metadata": {},
   "source": [
    "As mentioned in the lecture, there are 2 ways to go along word embeddings:\n",
    "1. You can learn word embeddings jointly with the main task you want to perform.\n",
    "2. You can load pre-computed word embeddings."
   ]
  },
  {
   "cell_type": "markdown",
   "metadata": {},
   "source": [
    "## 1. Train your own embedding"
   ]
  },
  {
   "cell_type": "markdown",
   "metadata": {},
   "source": [
    "Let's import the packages that you'll use in this lab. You'll need quite a few `keras` libraries along with `numpy`. "
   ]
  },
  {
   "cell_type": "code",
   "execution_count": 410,
   "metadata": {},
   "outputs": [],
   "source": [
    "from numpy import array\n",
    "import numpy as np\n",
    "from keras.preprocessing.text import one_hot\n",
    "from keras.preprocessing.text import Tokenizer\n",
    "from keras.preprocessing.sequence import pad_sequences\n",
    "from keras.models import Sequential\n",
    "from keras.layers import Dense\n",
    "from keras.layers import Flatten\n",
    "from keras.layers.embeddings import Embedding\n",
    "from sklearn.manifold import TSNE"
   ]
  },
  {
   "cell_type": "markdown",
   "metadata": {},
   "source": [
    "To illustrate the system of embedding, let's have a look at a small data set that contains 10 short reviews of movies. We create a list of movie reviews along with a `review_labels` object that stores whether the review is positive (1) or negative (0)."
   ]
  },
  {
   "cell_type": "code",
   "execution_count": 411,
   "metadata": {},
   "outputs": [],
   "source": [
    "# \"reviews\" stores 10 reviews\n",
    "reviews = ['This is a horrible movie!',\n",
    "        'I think this is the best performance ever encountered by Brad Pitt',\n",
    "        'Not historically accurate at all',\n",
    "        'Loved the plot twist!',\n",
    "        'This is my favorite movie of all time!',\n",
    "        'I hated this movie!',\n",
    "        'The scenery is beautiful',\n",
    "        'Not worth watching',\n",
    "        'The storyline does not make sense',\n",
    "        'What a waste of my time!']\n",
    "# label good and bad reviews\n",
    "review_labels = array([0,1,0,1,1,0,1,0,0,0])"
   ]
  },
  {
   "cell_type": "markdown",
   "metadata": {},
   "source": [
    "### 1.1 Word embedding using the Tokenizer API"
   ]
  },
  {
   "cell_type": "markdown",
   "metadata": {},
   "source": [
    "First, let's define how many words we want to keep in our vocabulary. Our data set is very short, so we are probably OK using only 50 words in our vocabulary."
   ]
  },
  {
   "cell_type": "code",
   "execution_count": 412,
   "metadata": {},
   "outputs": [],
   "source": [
    "n_words = 50"
   ]
  },
  {
   "cell_type": "markdown",
   "metadata": {},
   "source": [
    "Now, let's use the Tokenizer API."
   ]
  },
  {
   "cell_type": "code",
   "execution_count": 413,
   "metadata": {},
   "outputs": [],
   "source": [
    "tokenizer = Tokenizer(num_words = n_words)\n",
    "tokenizer.fit_on_texts(reviews)\n",
    "reviews_encoded = tokenizer.texts_to_sequences(reviews)"
   ]
  },
  {
   "cell_type": "markdown",
   "metadata": {},
   "source": [
    "Print out `reviews_encoded`"
   ]
  },
  {
   "cell_type": "code",
   "execution_count": 414,
   "metadata": {},
   "outputs": [
    {
     "data": {
      "text/plain": [
       "[[1, 2, 6, 12, 4],\n",
       " [7, 13, 1, 2, 3, 14, 15, 16, 17, 18, 19, 20],\n",
       " [5, 21, 22, 23, 8],\n",
       " [24, 3, 25, 26],\n",
       " [1, 2, 9, 27, 4, 10, 8, 11],\n",
       " [7, 28, 1, 4],\n",
       " [3, 29, 2, 30],\n",
       " [5, 31, 32],\n",
       " [3, 33, 34, 5, 35, 36],\n",
       " [37, 6, 38, 10, 9, 11]]"
      ]
     },
     "execution_count": 414,
     "metadata": {},
     "output_type": "execute_result"
    }
   ],
   "source": [
    "reviews_encoded"
   ]
  },
  {
   "cell_type": "code",
   "execution_count": 415,
   "metadata": {},
   "outputs": [
    {
     "data": {
      "text/plain": [
       "(10,)"
      ]
     },
     "execution_count": 415,
     "metadata": {},
     "output_type": "execute_result"
    }
   ],
   "source": [
    "np.shape(reviews_encoded)"
   ]
  },
  {
   "cell_type": "markdown",
   "metadata": {},
   "source": [
    "You'll notice that the encoded reviews have different lengths. Keras will need inputs to be vectorized, and all inputs will have to be padded in order to ensure they have the same length. You can use `pad_sequences` to do this. Let's specify a `max_sentence_length` of 15:"
   ]
  },
  {
   "cell_type": "code",
   "execution_count": 416,
   "metadata": {},
   "outputs": [],
   "source": [
    "max_sentence_length = 15\n",
    "padded_reviews = pad_sequences(reviews_encoded, maxlen=max_sentence_length)"
   ]
  },
  {
   "cell_type": "code",
   "execution_count": 417,
   "metadata": {},
   "outputs": [
    {
     "data": {
      "text/plain": [
       "array([[ 0,  0,  0,  0,  0,  0,  0,  0,  0,  0,  1,  2,  6, 12,  4],\n",
       "       [ 0,  0,  0,  7, 13,  1,  2,  3, 14, 15, 16, 17, 18, 19, 20],\n",
       "       [ 0,  0,  0,  0,  0,  0,  0,  0,  0,  0,  5, 21, 22, 23,  8],\n",
       "       [ 0,  0,  0,  0,  0,  0,  0,  0,  0,  0,  0, 24,  3, 25, 26],\n",
       "       [ 0,  0,  0,  0,  0,  0,  0,  1,  2,  9, 27,  4, 10,  8, 11],\n",
       "       [ 0,  0,  0,  0,  0,  0,  0,  0,  0,  0,  0,  7, 28,  1,  4],\n",
       "       [ 0,  0,  0,  0,  0,  0,  0,  0,  0,  0,  0,  3, 29,  2, 30],\n",
       "       [ 0,  0,  0,  0,  0,  0,  0,  0,  0,  0,  0,  0,  5, 31, 32],\n",
       "       [ 0,  0,  0,  0,  0,  0,  0,  0,  0,  3, 33, 34,  5, 35, 36],\n",
       "       [ 0,  0,  0,  0,  0,  0,  0,  0,  0, 37,  6, 38, 10,  9, 11]],\n",
       "      dtype=int32)"
      ]
     },
     "execution_count": 417,
     "metadata": {},
     "output_type": "execute_result"
    }
   ],
   "source": [
    "padded_reviews"
   ]
  },
  {
   "cell_type": "markdown",
   "metadata": {},
   "source": [
    "You can specify padding = 'pre' or padding = 'post'"
   ]
  },
  {
   "cell_type": "code",
   "execution_count": 418,
   "metadata": {},
   "outputs": [
    {
     "data": {
      "text/plain": [
       "(10, 15)"
      ]
     },
     "execution_count": 418,
     "metadata": {},
     "output_type": "execute_result"
    }
   ],
   "source": [
    "np.shape(padded_reviews)"
   ]
  },
  {
   "cell_type": "markdown",
   "metadata": {},
   "source": [
    "Now, let's build the model. Start with specifying the model as a `Sequential()` model.  You'll need to add an embedding layer. You can do this using `model.add` and then `Embedding`.\n",
    "\n",
    "you'll have to specify 3 arguments:\n",
    "- `input_dim`: the number of words in your vocabulary. In our case, this is equal to `n_words` (50).\n",
    "- `output_dim`: The size of the vector space of the embedding vector. We're working with a fairly small data set here, so let's define an embedding space accordingly (12)\n",
    "- `input_length`: This the length of the sentences, so equal to `max_sentence_length` in our example.\n",
    "\n",
    "Let's build a simple one-layer densely connected network that uses the embedding layer. You can add one dense layer with a sigmoid activation. Compile the model (optimizer 'RMSprop') and print the model summary so you can have a look at the parameters. \n",
    "\n",
    "Make sure to flatten your embedding layer to a 180-element vector to pass it on to the dense layer."
   ]
  },
  {
   "cell_type": "code",
   "execution_count": 419,
   "metadata": {},
   "outputs": [
    {
     "name": "stdout",
     "output_type": "stream",
     "text": [
      "_________________________________________________________________\n",
      "Layer (type)                 Output Shape              Param #   \n",
      "=================================================================\n",
      "embedding_36 (Embedding)     (None, 15, 12)            600       \n",
      "_________________________________________________________________\n",
      "flatten_31 (Flatten)         (None, 180)               0         \n",
      "_________________________________________________________________\n",
      "dense_31 (Dense)             (None, 1)                 181       \n",
      "=================================================================\n",
      "Total params: 781\n",
      "Trainable params: 781\n",
      "Non-trainable params: 0\n",
      "_________________________________________________________________\n"
     ]
    }
   ],
   "source": [
    "# define the model\n",
    "model = Sequential()\n",
    "model.add(Embedding(input_dim = n_words, output_dim = 12, input_length= max_sentence_length))\n",
    "model.add(Flatten())\n",
    "model.add(Dense(1, activation='sigmoid'))\n",
    "model.compile(optimizer='RMSprop', loss='binary_crossentropy', metrics=['acc'])\n",
    "\n",
    "model.summary()\n",
    "#note that Parameter # in the embedding layer is 15 * 12."
   ]
  },
  {
   "cell_type": "code",
   "execution_count": 424,
   "metadata": {},
   "outputs": [],
   "source": [
    "# fit the model\n",
    "model.fit(padded_reviews, review_labels, epochs=20, verbose=0)\n",
    "\n",
    "# evaluate the model\n",
    "loss, accuracy = model.evaluate(padded_reviews, review_labels, verbose=0)"
   ]
  },
  {
   "cell_type": "code",
   "execution_count": 425,
   "metadata": {},
   "outputs": [
    {
     "data": {
      "text/plain": [
       "0.43128958344459534"
      ]
     },
     "execution_count": 425,
     "metadata": {},
     "output_type": "execute_result"
    }
   ],
   "source": [
    "loss"
   ]
  },
  {
   "cell_type": "code",
   "execution_count": 426,
   "metadata": {},
   "outputs": [
    {
     "data": {
      "text/plain": [
       "0.800000011920929"
      ]
     },
     "execution_count": 426,
     "metadata": {},
     "output_type": "execute_result"
    }
   ],
   "source": [
    "accuracy"
   ]
  },
  {
   "cell_type": "markdown",
   "metadata": {},
   "source": [
    "The advantage of using the tokenizer is that a vocabulary is stored. Using `word_index` on the `tokenizer` object, you can have a look at the dictionary."
   ]
  },
  {
   "cell_type": "code",
   "execution_count": 427,
   "metadata": {},
   "outputs": [
    {
     "data": {
      "text/plain": [
       "{'a': 6,\n",
       " 'accurate': 22,\n",
       " 'all': 8,\n",
       " 'at': 23,\n",
       " 'beautiful': 30,\n",
       " 'best': 14,\n",
       " 'brad': 19,\n",
       " 'by': 18,\n",
       " 'does': 34,\n",
       " 'encountered': 17,\n",
       " 'ever': 16,\n",
       " 'favorite': 27,\n",
       " 'hated': 28,\n",
       " 'historically': 21,\n",
       " 'horrible': 12,\n",
       " 'i': 7,\n",
       " 'is': 2,\n",
       " 'loved': 24,\n",
       " 'make': 35,\n",
       " 'movie': 4,\n",
       " 'my': 9,\n",
       " 'not': 5,\n",
       " 'of': 10,\n",
       " 'performance': 15,\n",
       " 'pitt': 20,\n",
       " 'plot': 25,\n",
       " 'scenery': 29,\n",
       " 'sense': 36,\n",
       " 'storyline': 33,\n",
       " 'the': 3,\n",
       " 'think': 13,\n",
       " 'this': 1,\n",
       " 'time': 11,\n",
       " 'twist': 26,\n",
       " 'waste': 38,\n",
       " 'watching': 32,\n",
       " 'what': 37,\n",
       " 'worth': 31}"
      ]
     },
     "execution_count": 427,
     "metadata": {},
     "output_type": "execute_result"
    }
   ],
   "source": [
    "word_index = tokenizer.word_index\n",
    "\n",
    "word_index"
   ]
  },
  {
   "cell_type": "markdown",
   "metadata": {},
   "source": [
    "We've used an embedding layer, but what do our word embeddings look like?"
   ]
  },
  {
   "cell_type": "code",
   "execution_count": 428,
   "metadata": {},
   "outputs": [
    {
     "data": {
      "text/plain": [
       "array([[ 0.07919858,  0.0679182 ,  0.08532567, -0.11380879, -0.04645944,\n",
       "        -0.05434047, -0.06392208,  0.08127487,  0.04535653, -0.06651495,\n",
       "         0.07330054, -0.075877  ],\n",
       "       [-0.04365373,  0.02017307, -0.04471115, -0.10848062,  0.06277847,\n",
       "        -0.07796951,  0.08853772,  0.05637849, -0.05499237, -0.07732692,\n",
       "        -0.02948613,  0.08657829],\n",
       "       [-0.11564074, -0.08235232,  0.02150699,  0.11446372,  0.02144285,\n",
       "         0.05577567, -0.07481159,  0.02684835, -0.04971245,  0.0408558 ,\n",
       "        -0.08270697, -0.03475602],\n",
       "       [-0.07851718,  0.09032966, -0.08775849,  0.04243078, -0.04385317,\n",
       "        -0.09878672,  0.07223155, -0.09097853, -0.02741705,  0.10700429,\n",
       "        -0.04134813,  0.02487213],\n",
       "       [-0.04662213,  0.11477876, -0.02459642,  0.10387751, -0.12802272,\n",
       "         0.10479152, -0.07373875,  0.0484083 , -0.10089989, -0.01477046,\n",
       "         0.06066347,  0.03754882],\n",
       "       [ 0.06040209, -0.06328929,  0.03589354,  0.0722242 ,  0.0811155 ,\n",
       "        -0.01183047,  0.03304276,  0.0953567 , -0.04768745, -0.06448431,\n",
       "         0.09244566,  0.06962461],\n",
       "       [ 0.10539913, -0.06485972,  0.09320787, -0.04219872,  0.10014062,\n",
       "        -0.11054792,  0.06473333,  0.05830848, -0.09380844, -0.03692957,\n",
       "         0.01683961,  0.11300261],\n",
       "       [-0.11749706,  0.11257121,  0.0218092 , -0.10968208,  0.02377388,\n",
       "        -0.12710981, -0.04297842, -0.03165859,  0.05423406,  0.07340875,\n",
       "        -0.02260578, -0.09671357],\n",
       "       [-0.11000819, -0.06064056,  0.0445818 ,  0.05948127, -0.05958268,\n",
       "         0.10413771, -0.00437656,  0.03991013, -0.10017884,  0.08271904,\n",
       "        -0.02872422,  0.00824362],\n",
       "       [ 0.04669316, -0.03394947,  0.1011548 , -0.03266714,  0.04621699,\n",
       "         0.09986778,  0.05962878,  0.11517017,  0.09271896, -0.0318228 ,\n",
       "         0.0707862 ,  0.06233476],\n",
       "       [-0.1192207 ,  0.07672868,  0.08739897, -0.09635327, -0.11630151,\n",
       "        -0.07273183, -0.0574398 , -0.06281465,  0.1310572 ,  0.06321169,\n",
       "        -0.090748  , -0.11747959],\n",
       "       [ 0.0753567 , -0.07870194,  0.13337429, -0.04025323,  0.07410684,\n",
       "        -0.05899466,  0.11177225, -0.05939393,  0.02490435,  0.05709629,\n",
       "        -0.05757184, -0.06224752],\n",
       "       [-0.06746722,  0.02806628, -0.09789048, -0.10394181,  0.10849556,\n",
       "        -0.11064354, -0.04365607,  0.02093713,  0.07886854, -0.03911827,\n",
       "         0.06147482,  0.08419737],\n",
       "       [-0.05711185, -0.0483147 , -0.10360729,  0.04821576, -0.02442009,\n",
       "        -0.05526233,  0.08277748, -0.08457638, -0.05852541,  0.10776422,\n",
       "        -0.05743602,  0.0295651 ],\n",
       "       [-0.05701034,  0.02495284,  0.05901499,  0.06953514,  0.02675183,\n",
       "         0.04938691, -0.12029171,  0.02728789, -0.06549972,  0.07459135,\n",
       "        -0.03355804, -0.07046565],\n",
       "       [ 0.07439591, -0.08550229,  0.07579466, -0.09347191, -0.11269844,\n",
       "         0.10190406,  0.1116226 ,  0.04475634, -0.01976559, -0.07081653,\n",
       "         0.09269273, -0.06152529],\n",
       "       [ 0.05606196,  0.00039064, -0.08271506,  0.04930743,  0.08643554,\n",
       "         0.09492487, -0.04646014, -0.02396704,  0.0567591 ,  0.1142646 ,\n",
       "         0.12025052, -0.04405488],\n",
       "       [ 0.09547327, -0.09747817, -0.05609369,  0.07279194, -0.1073639 ,\n",
       "         0.07560141,  0.05034009, -0.07306622, -0.05152312,  0.06294551,\n",
       "        -0.10108913,  0.07616321],\n",
       "       [-0.04079431,  0.03410736,  0.063247  , -0.117879  , -0.08847924,\n",
       "        -0.07929366, -0.11381025, -0.12368583,  0.11294001,  0.09970056,\n",
       "        -0.06743856, -0.02618109],\n",
       "       [ 0.02422754, -0.04220241,  0.02723221,  0.05967175, -0.04862604,\n",
       "         0.06949218,  0.12010642, -0.02978665, -0.09838939,  0.09757645,\n",
       "        -0.03848423, -0.10654309],\n",
       "       [ 0.09301017, -0.06959797,  0.07544964, -0.10679889,  0.08822164,\n",
       "        -0.08173008,  0.07118478, -0.04010229,  0.01894129,  0.06529076,\n",
       "        -0.07100413, -0.03459929],\n",
       "       [-0.01906119,  0.10112916,  0.05509807, -0.10703541,  0.12017387,\n",
       "        -0.07106864, -0.05895863,  0.03856415,  0.07833208, -0.12772326,\n",
       "         0.09918036, -0.07636888],\n",
       "       [ 0.10709067, -0.06526836, -0.01858076,  0.0763758 ,  0.05092414,\n",
       "         0.11899977,  0.07948638,  0.07118502, -0.03455052, -0.11583956,\n",
       "         0.0457677 ,  0.11068848],\n",
       "       [-0.05264327,  0.09216314, -0.09783223, -0.08884338,  0.03643609,\n",
       "        -0.03781558, -0.12893446,  0.06337651,  0.11395754, -0.08098048,\n",
       "         0.07905275,  0.07594099],\n",
       "       [ 0.05680873, -0.04463908, -0.07956757,  0.06073073, -0.10550496,\n",
       "         0.05562902,  0.03698028, -0.09119286, -0.12262108,  0.07258385,\n",
       "        -0.09704868,  0.11178883],\n",
       "       [ 0.02598229, -0.09784315,  0.04893816,  0.1066857 , -0.04436545,\n",
       "         0.12207752,  0.04326304, -0.0637574 , -0.05080175,  0.03714129,\n",
       "        -0.07209537, -0.0860422 ],\n",
       "       [ 0.03000092, -0.07429004,  0.0962346 , -0.0666713 ,  0.05007012,\n",
       "        -0.08900528,  0.11128263, -0.0781671 , -0.01541393,  0.04423765,\n",
       "        -0.0311163 , -0.09181353],\n",
       "       [ 0.07726157,  0.05767027, -0.093242  ,  0.05666038,  0.01111356,\n",
       "         0.07169479, -0.1109962 , -0.08520846,  0.0885395 ,  0.10145191,\n",
       "         0.1028522 , -0.09177313],\n",
       "       [ 0.07640366, -0.06859296, -0.03908547,  0.11140352,  0.07480438,\n",
       "         0.06253427,  0.06156491,  0.0990935 , -0.10900156, -0.0198762 ,\n",
       "         0.08235855,  0.11546662],\n",
       "       [-0.12044013,  0.11634544,  0.06565046, -0.11468217, -0.07915452,\n",
       "        -0.03436728, -0.0665729 , -0.10231815,  0.08866432,  0.10365124,\n",
       "        -0.10040823, -0.10806087],\n",
       "       [ 0.03905907, -0.11583784,  0.03787761, -0.07570174,  0.03543837,\n",
       "        -0.0669166 ,  0.04555913, -0.0736913 , -0.02075507,  0.05279406,\n",
       "        -0.08095396, -0.07397363],\n",
       "       [-0.08514008,  0.10250581, -0.07121842, -0.03835481,  0.11595143,\n",
       "        -0.04917303, -0.12518623,  0.0532407 ,  0.1125781 , -0.0406387 ,\n",
       "         0.06978407,  0.09560147],\n",
       "       [-0.11740173,  0.01951569, -0.09107076,  0.02675158, -0.04166452,\n",
       "         0.08537339, -0.08334699,  0.02960259,  0.01333015, -0.0522691 ,\n",
       "         0.06374358,  0.05378993],\n",
       "       [-0.03078017, -0.04996731,  0.07730672, -0.07026614, -0.06504568,\n",
       "        -0.02476207,  0.09474242,  0.11179126, -0.11512354, -0.09600584,\n",
       "        -0.07520057,  0.1069052 ],\n",
       "       [-0.10708461,  0.07134268,  0.03032253, -0.04596201,  0.08955184,\n",
       "        -0.10462437, -0.05023506,  0.03193042,  0.08263127, -0.13111201,\n",
       "         0.09114464, -0.12460106],\n",
       "       [-0.01254363,  0.02095836, -0.09112059, -0.06314008,  0.04640007,\n",
       "        -0.11161102, -0.11063244,  0.0495831 ,  0.06044084, -0.08473443,\n",
       "         0.10654913,  0.0910494 ],\n",
       "       [-0.07858299,  0.04216666, -0.04126701,  0.10440594, -0.11472303,\n",
       "         0.04197281, -0.09560143,  0.0350037 , -0.03020138, -0.09271727,\n",
       "         0.0504682 ,  0.0287511 ],\n",
       "       [-0.12403851,  0.02982234, -0.07753427,  0.05715245,  0.05667045,\n",
       "        -0.06444485, -0.0938374 , -0.10196932,  0.05780359,  0.02819088,\n",
       "        -0.11852682,  0.06976806],\n",
       "       [-0.02931219,  0.11726704,  0.05854814, -0.05977081,  0.08102453,\n",
       "        -0.04477074, -0.04364537,  0.07045367,  0.08818021, -0.0758867 ,\n",
       "         0.05891813, -0.06065476],\n",
       "       [-0.04658417, -0.016214  ,  0.00798881,  0.0184489 , -0.04305378,\n",
       "         0.02286271,  0.03331396, -0.01154621,  0.02228418, -0.00544643,\n",
       "         0.01609418,  0.01964687],\n",
       "       [ 0.02154975, -0.02897959, -0.00252693, -0.00156239,  0.03319726,\n",
       "         0.00522189,  0.01325823, -0.02973231,  0.01466907,  0.04325874,\n",
       "        -0.00216627, -0.02041133],\n",
       "       [-0.00032146,  0.00622283,  0.03512162, -0.03123627,  0.00271815,\n",
       "        -0.04633808,  0.02774208,  0.00366547, -0.03191804,  0.0114621 ,\n",
       "        -0.0339094 ,  0.00136212],\n",
       "       [ 0.02713713,  0.02338829,  0.0468709 ,  0.01111455, -0.02296041,\n",
       "         0.03797653,  0.02599892,  0.02194664,  0.02902064,  0.04551964,\n",
       "        -0.02620933, -0.04710023],\n",
       "       [-0.04343447, -0.0435986 ,  0.00370979,  0.02150824,  0.02812393,\n",
       "         0.01557804, -0.01574318,  0.00381814,  0.04679409, -0.00785235,\n",
       "        -0.02732924,  0.04072121],\n",
       "       [-0.02663897,  0.0264231 ,  0.01037768,  0.04307351, -0.02463618,\n",
       "         0.01433778, -0.0477782 ,  0.01167957, -0.04159421, -0.02957488,\n",
       "        -0.02329395, -0.01701226],\n",
       "       [ 0.00890227,  0.01031833, -0.04400922, -0.03798219,  0.04224369,\n",
       "         0.00411757,  0.04343228,  0.02629756,  0.04262997,  0.03370427,\n",
       "        -0.04346159, -0.00507662],\n",
       "       [-0.00923454, -0.02621078,  0.01867287,  0.0106596 , -0.00394512,\n",
       "         0.03128083,  0.03391511,  0.03611995, -0.00953199,  0.03159868,\n",
       "        -0.03376874, -0.03354015],\n",
       "       [ 0.00261644, -0.02956733, -0.0420604 , -0.01349207,  0.00823595,\n",
       "         0.02074811,  0.04306239,  0.02522118,  0.03238488, -0.02769551,\n",
       "        -0.04513295,  0.00749166],\n",
       "       [ 0.01895336,  0.03000865,  0.00906096, -0.03154969, -0.04055878,\n",
       "        -0.01788085,  0.02926124, -0.00427594, -0.03990724,  0.02424736,\n",
       "         0.00210644,  0.00081606],\n",
       "       [ 0.04264939, -0.04839612, -0.03357707,  0.02432665,  0.04782699,\n",
       "        -0.02452954, -0.00382369,  0.03517994,  0.03732134, -0.01402835,\n",
       "         0.04082989,  0.02434449]], dtype=float32)"
      ]
     },
     "execution_count": 428,
     "metadata": {},
     "output_type": "execute_result"
    }
   ],
   "source": [
    "embedding_layer = model.layers[0].get_weights()[0]\n",
    "embedding_layer"
   ]
  },
  {
   "cell_type": "markdown",
   "metadata": {},
   "source": [
    "This surely isn't very informative. It would be great if we can visualize this. We can use t-SNE to do this. "
   ]
  },
  {
   "cell_type": "code",
   "execution_count": 429,
   "metadata": {},
   "outputs": [
    {
     "data": {
      "text/plain": [
       "(50, 12)"
      ]
     },
     "execution_count": 429,
     "metadata": {},
     "output_type": "execute_result"
    }
   ],
   "source": [
    "np.shape(embedding_layer)"
   ]
  },
  {
   "cell_type": "code",
   "execution_count": 430,
   "metadata": {},
   "outputs": [],
   "source": [
    "import matplotlib.pyplot as plt\n",
    "fig_size = plt.rcParams[\"figure.figsize\"]\n",
    "\n",
    "# Set figure width and height to 9\n",
    "fig_size[0] = fig_size[1] = 9\n",
    "plt.rcParams[\"figure.figsize\"] = fig_size"
   ]
  },
  {
   "cell_type": "code",
   "execution_count": 431,
   "metadata": {},
   "outputs": [
    {
     "name": "stdout",
     "output_type": "stream",
     "text": [
      "[t-SNE] Computing 49 nearest neighbors...\n",
      "[t-SNE] Indexed 50 samples in 0.000s...\n",
      "[t-SNE] Computed neighbors for 50 samples in 0.002s...\n",
      "[t-SNE] Computed conditional probabilities for sample 50 / 50\n",
      "[t-SNE] Mean sigma: 0.201329\n",
      "[t-SNE] KL divergence after 250 iterations with early exaggeration: 48.983784\n",
      "[t-SNE] Error after 2000 iterations: 0.135311\n"
     ]
    },
    {
     "data": {
      "image/png": "[encoded data removed]",
      "text/plain": [
       "<matplotlib.figure.Figure at 0x1a2e78c8d0>"
      ]
     },
     "metadata": {},
     "output_type": "display_data"
    }
   ],
   "source": [
    "tsne = TSNE(n_components=2, random_state=123, verbose=1, n_iter=2000)\n",
    "transformed_weights = tsne.fit_transform(embedding_layer)\n",
    "\n",
    "x_coord = transformed_weights[:, 0]\n",
    "y_coord = transformed_weights[:, 1]\n",
    "\n",
    "plt.scatter(x_coords, y_coords)\n",
    "for index, x, y in zip(word_index, x_coords, y_coords):\n",
    "  plt.annotate(index, xy=(x, y), xytext=(0, 0), textcoords='offset points')"
   ]
  },
  {
   "cell_type": "markdown",
   "metadata": {},
   "source": [
    "This word cloud give you a visual representation of the word embeddings. Note that this particular embedding isn't necessarily very useful. While worde like \"horrible\" and \"hated\" are close to each other, so is \"love\". Note that word embeddings will become more accurate when trained on bigger data. When you are using a data set that is small like this one, you'll probably want to use a pre-trained word embedding, which you'll learn about later."
   ]
  },
  {
   "cell_type": "markdown",
   "metadata": {},
   "source": [
    "### 1.2 Word embedding using `one_hot()` : hashing"
   ]
  },
  {
   "cell_type": "markdown",
   "metadata": {},
   "source": [
    "Another way to encode your sentences is done through the use of the `one_hot` function in Keras. Using `one_hot()`, you create a hash of each word, which is an efficient way of encoding vectors. Note that hash collision will likely take place. This way of encoding is especially useful when you have big data sets, as creating explicit dictionaries as done by the Tokenizer API is time-consuming. "
   ]
  },
  {
   "cell_type": "markdown",
   "metadata": {},
   "source": [
    "Let's convert the words into integers. You use one_hot: not actually one-hot but numbers vector. uses hashing!\n",
    "\n",
    "https://machinelearningmastery.com/prepare-text-data-deep-learning-keras/\n",
    "\n",
    "https://www.quora.com/Can-you-explain-feature-hashing-in-an-easily-understandable-way\n",
    "\n",
    "https://en.wikipedia.org/wiki/Feature_hashing "
   ]
  },
  {
   "cell_type": "code",
   "execution_count": 432,
   "metadata": {},
   "outputs": [
    {
     "data": {
      "text/plain": [
       "[[40, 43, 14, 22, 24],\n",
       " [13, 17, 40, 43, 11, 17, 30, 7, 12, 43, 47, 10],\n",
       " [43, 44, 9, 8, 21],\n",
       " [16, 11, 17, 46],\n",
       " [40, 43, 21, 5, 24, 23, 21, 16],\n",
       " [13, 2, 40, 24],\n",
       " [11, 16, 43, 23],\n",
       " [43, 17, 45],\n",
       " [11, 6, 18, 43, 9, 28],\n",
       " [12, 14, 4, 23, 21, 16]]"
      ]
     },
     "execution_count": 432,
     "metadata": {},
     "output_type": "execute_result"
    }
   ],
   "source": [
    "# integer encode the documents using the hashing trick\n",
    "n_words = 50\n",
    "reviews_encoded = [one_hot(review, n_words) for review in reviews]\n",
    "reviews_encoded"
   ]
  },
  {
   "cell_type": "code",
   "execution_count": 433,
   "metadata": {},
   "outputs": [
    {
     "data": {
      "text/plain": [
       "array([[ 0,  0,  0,  0,  0,  0,  0,  0,  0,  0, 40, 43, 14, 22, 24],\n",
       "       [ 0,  0,  0, 13, 17, 40, 43, 11, 17, 30,  7, 12, 43, 47, 10],\n",
       "       [ 0,  0,  0,  0,  0,  0,  0,  0,  0,  0, 43, 44,  9,  8, 21],\n",
       "       [ 0,  0,  0,  0,  0,  0,  0,  0,  0,  0,  0, 16, 11, 17, 46],\n",
       "       [ 0,  0,  0,  0,  0,  0,  0, 40, 43, 21,  5, 24, 23, 21, 16],\n",
       "       [ 0,  0,  0,  0,  0,  0,  0,  0,  0,  0,  0, 13,  2, 40, 24],\n",
       "       [ 0,  0,  0,  0,  0,  0,  0,  0,  0,  0,  0, 11, 16, 43, 23],\n",
       "       [ 0,  0,  0,  0,  0,  0,  0,  0,  0,  0,  0,  0, 43, 17, 45],\n",
       "       [ 0,  0,  0,  0,  0,  0,  0,  0,  0, 11,  6, 18, 43,  9, 28],\n",
       "       [ 0,  0,  0,  0,  0,  0,  0,  0,  0, 12, 14,  4, 23, 21, 16]],\n",
       "      dtype=int32)"
      ]
     },
     "execution_count": 433,
     "metadata": {},
     "output_type": "execute_result"
    }
   ],
   "source": [
    "# pad the reviews to a maximum of 15 words\n",
    "max_sentence_length = 15\n",
    "padded_reviews = pad_sequences(reviews_encoded, maxlen=max_sentence_length, padding='pre')\n",
    "padded_reviews"
   ]
  },
  {
   "cell_type": "markdown",
   "metadata": {},
   "source": [
    "Now, rebuild the model using the new `padded_reviews` created using "
   ]
  },
  {
   "cell_type": "code",
   "execution_count": 442,
   "metadata": {},
   "outputs": [
    {
     "name": "stdout",
     "output_type": "stream",
     "text": [
      "_________________________________________________________________\n",
      "Layer (type)                 Output Shape              Param #   \n",
      "=================================================================\n",
      "embedding_38 (Embedding)     (None, 15, 12)            600       \n",
      "_________________________________________________________________\n",
      "flatten_33 (Flatten)         (None, 180)               0         \n",
      "_________________________________________________________________\n",
      "dense_33 (Dense)             (None, 1)                 181       \n",
      "=================================================================\n",
      "Total params: 781\n",
      "Trainable params: 781\n",
      "Non-trainable params: 0\n",
      "_________________________________________________________________\n"
     ]
    }
   ],
   "source": [
    "# define the model\n",
    "model = Sequential()\n",
    "model.add(Embedding(input_dim = n_words, output_dim = 12, input_length= max_sentence_length))\n",
    "model.add(Flatten())\n",
    "model.add(Dense(1, activation='sigmoid'))\n",
    "model.compile(optimizer='RMSprop', loss='binary_crossentropy', metrics=['acc'])\n",
    "\n",
    "model.summary()"
   ]
  },
  {
   "cell_type": "code",
   "execution_count": 443,
   "metadata": {},
   "outputs": [],
   "source": [
    "# fit the model\n",
    "model.fit(padded_reviews, review_labels, epochs=20, verbose=0)\n",
    "# evaluate the model\n",
    "loss, accuracy = model.evaluate(padded_reviews, review_labels, verbose=0)"
   ]
  },
  {
   "cell_type": "code",
   "execution_count": 444,
   "metadata": {},
   "outputs": [
    {
     "data": {
      "text/plain": [
       "0.6009558439254761"
      ]
     },
     "execution_count": 444,
     "metadata": {},
     "output_type": "execute_result"
    }
   ],
   "source": [
    "loss"
   ]
  },
  {
   "cell_type": "code",
   "execution_count": 445,
   "metadata": {},
   "outputs": [
    {
     "data": {
      "text/plain": [
       "0.699999988079071"
      ]
     },
     "execution_count": 445,
     "metadata": {},
     "output_type": "execute_result"
    }
   ],
   "source": [
    "accuracy"
   ]
  },
  {
   "cell_type": "markdown",
   "metadata": {},
   "source": [
    "Even though collision takes place, the loss in accuracy is generally negligible. As you don't have a vocabulary anymore, however, making a labeled T-sne plot isn't feasible here."
   ]
  },
  {
   "cell_type": "markdown",
   "metadata": {},
   "source": [
    "## 2. Use pre-trained word embeddings"
   ]
  },
  {
   "cell_type": "code",
   "execution_count": null,
   "metadata": {},
   "outputs": [],
   "source": []
  },
  {
   "cell_type": "markdown",
   "metadata": {},
   "source": [
    "# SOURCES"
   ]
  },
  {
   "cell_type": "markdown",
   "metadata": {},
   "source": [
    "https://github.com/keras-team/keras/issues/5204"
   ]
  },
  {
   "cell_type": "code",
   "execution_count": null,
   "metadata": {},
   "outputs": [],
   "source": [
    "https://medium.com/@aneesha/using-tsne-to-plot-a-subset-of-similar-words-from-word2vec-bb8eeaea6229"
   ]
  }
 ],
 "metadata": {
  "kernelspec": {
   "display_name": "Python 3",
   "language": "python",
   "name": "python3"
  },
  "language_info": {
   "codemirror_mode": {
    "name": "ipython",
    "version": 3
   },
   "file_extension": ".py",
   "mimetype": "text/x-python",
   "name": "python",
   "nbconvert_exporter": "python",
   "pygments_lexer": "ipython3",
   "version": "3.6.4"
  }
 },
 "nbformat": 4,
 "nbformat_minor": 2
}
