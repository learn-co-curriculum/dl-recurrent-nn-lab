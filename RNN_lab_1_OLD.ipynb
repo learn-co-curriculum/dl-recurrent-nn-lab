{
 "cells": [
  {
   "cell_type": "markdown",
   "metadata": {},
   "source": [
    "# Introduction to word embeddings"
   ]
  },
  {
   "cell_type": "markdown",
   "metadata": {},
   "source": [
    "## 1. Classifying bank complaints using an RNN and word embedding"
   ]
  },
  {
   "cell_type": "markdown",
   "metadata": {},
   "source": [
    "### 1.1 The data"
   ]
  },
  {
   "cell_type": "code",
   "execution_count": 93,
   "metadata": {},
   "outputs": [
    {
     "data": {
      "text/html": [
       "<div>\n",
       "<style scoped>\n",
       "    .dataframe tbody tr th:only-of-type {\n",
       "        vertical-align: middle;\n",
       "    }\n",
       "\n",
       "    .dataframe tbody tr th {\n",
       "        vertical-align: top;\n",
       "    }\n",
       "\n",
       "    .dataframe thead th {\n",
       "        text-align: right;\n",
       "    }\n",
       "</style>\n",
       "<table border=\"1\" class=\"dataframe\">\n",
       "  <thead>\n",
       "    <tr style=\"text-align: right;\">\n",
       "      <th></th>\n",
       "      <th>Product</th>\n",
       "      <th>Consumer complaint narrative</th>\n",
       "    </tr>\n",
       "  </thead>\n",
       "  <tbody>\n",
       "    <tr>\n",
       "      <th>0</th>\n",
       "      <td>Student loan</td>\n",
       "      <td>In XX/XX/XXXX I filled out the Fedlaon applica...</td>\n",
       "    </tr>\n",
       "    <tr>\n",
       "      <th>1</th>\n",
       "      <td>Student loan</td>\n",
       "      <td>I am being contacted by a debt collector for p...</td>\n",
       "    </tr>\n",
       "    <tr>\n",
       "      <th>2</th>\n",
       "      <td>Student loan</td>\n",
       "      <td>I cosigned XXXX student loans at SallieMae for...</td>\n",
       "    </tr>\n",
       "    <tr>\n",
       "      <th>3</th>\n",
       "      <td>Student loan</td>\n",
       "      <td>Navient has sytematically and illegally failed...</td>\n",
       "    </tr>\n",
       "    <tr>\n",
       "      <th>4</th>\n",
       "      <td>Student loan</td>\n",
       "      <td>My wife became eligible for XXXX Loan Forgiven...</td>\n",
       "    </tr>\n",
       "  </tbody>\n",
       "</table>\n",
       "</div>"
      ],
      "text/plain": [
       "        Product                       Consumer complaint narrative\n",
       "0  Student loan  In XX/XX/XXXX I filled out the Fedlaon applica...\n",
       "1  Student loan  I am being contacted by a debt collector for p...\n",
       "2  Student loan  I cosigned XXXX student loans at SallieMae for...\n",
       "3  Student loan  Navient has sytematically and illegally failed...\n",
       "4  Student loan  My wife became eligible for XXXX Loan Forgiven..."
      ]
     },
     "execution_count": 93,
     "metadata": {},
     "output_type": "execute_result"
    }
   ],
   "source": [
    "import matplotlib.pyplot as plt\n",
    "import pandas as pd\n",
    "import numpy as np\n",
    "from sklearn.model_selection import train_test_split\n",
    "from keras.utils.np_utils import to_categorical\n",
    "from keras.models import Sequential \n",
    "from keras.layers import Flatten, Dense\n",
    "from keras.preprocessing.text import Tokenizer\n",
    "from keras.layers import Embedding\n",
    "from keras import preprocessing\n",
    "\n",
    "df = pd.read_csv('Bank_complaints.csv')\n",
    "df.head()"
   ]
  },
  {
   "cell_type": "code",
   "execution_count": 94,
   "metadata": {},
   "outputs": [],
   "source": [
    "import random\n",
    "random.seed(123)\n",
    "df = df.sample(10000)"
   ]
  },
  {
   "cell_type": "code",
   "execution_count": 95,
   "metadata": {},
   "outputs": [],
   "source": [
    "df.index = range(10000)"
   ]
  },
  {
   "cell_type": "code",
   "execution_count": 96,
   "metadata": {},
   "outputs": [],
   "source": [
    "product = df[\"Product\"]"
   ]
  },
  {
   "cell_type": "markdown",
   "metadata": {},
   "source": [
    "There are 7 types of complaints"
   ]
  },
  {
   "cell_type": "code",
   "execution_count": 97,
   "metadata": {},
   "outputs": [
    {
     "data": {
      "text/plain": [
       "Student loan                   1890\n",
       "Credit card                    1626\n",
       "Consumer Loan                  1573\n",
       "Mortgage                       1407\n",
       "Bank account or service        1351\n",
       "Credit reporting               1138\n",
       "Checking or savings account    1015\n",
       "Name: Product, dtype: int64"
      ]
     },
     "execution_count": 97,
     "metadata": {},
     "output_type": "execute_result"
    }
   ],
   "source": [
    "product.value_counts()"
   ]
  },
  {
   "cell_type": "code",
   "execution_count": 64,
   "metadata": {},
   "outputs": [
    {
     "name": "stdout",
     "output_type": "stream",
     "text": [
      "<class 'pandas.core.frame.DataFrame'>\n",
      "RangeIndex: 10000 entries, 0 to 9999\n",
      "Data columns (total 2 columns):\n",
      "Product                         10000 non-null object\n",
      "Consumer complaint narrative    10000 non-null object\n",
      "dtypes: object(2)\n",
      "memory usage: 156.3+ KB\n"
     ]
    }
   ],
   "source": [
    "df.info()"
   ]
  },
  {
   "cell_type": "code",
   "execution_count": 65,
   "metadata": {},
   "outputs": [],
   "source": [
    "complaints = df[\"Consumer complaint narrative\"]"
   ]
  },
  {
   "cell_type": "markdown",
   "metadata": {},
   "source": [
    "### Embedding layer"
   ]
  },
  {
   "cell_type": "markdown",
   "metadata": {},
   "source": [
    "We're going to create our own embedding. Let's start with importing an embedding layer. The embedding layer has two mandatory arguments: The possible number of tokens, and the number of embeddings (200 in this case)"
   ]
  },
  {
   "cell_type": "code",
   "execution_count": 66,
   "metadata": {},
   "outputs": [],
   "source": [
    "embedding_layer = Embedding(1000, 200)"
   ]
  },
  {
   "cell_type": "markdown",
   "metadata": {},
   "source": [
    "Only keep 2,000 most common words and use one-hot encoding"
   ]
  },
  {
   "cell_type": "code",
   "execution_count": 67,
   "metadata": {},
   "outputs": [],
   "source": [
    "tokenizer = Tokenizer(num_words=2000)"
   ]
  },
  {
   "cell_type": "code",
   "execution_count": 68,
   "metadata": {},
   "outputs": [],
   "source": [
    "tokenizer.fit_on_texts(complaints)"
   ]
  },
  {
   "cell_type": "code",
   "execution_count": 69,
   "metadata": {},
   "outputs": [],
   "source": [
    "sequences = tokenizer.texts_to_sequences(complaints)"
   ]
  },
  {
   "cell_type": "code",
   "execution_count": 70,
   "metadata": {},
   "outputs": [],
   "source": [
    "sequences= np.asarray(sequences)"
   ]
  },
  {
   "cell_type": "code",
   "execution_count": 71,
   "metadata": {},
   "outputs": [
    {
     "data": {
      "text/plain": [
       "array([list([73, 45, 389, 323, 189, 13, 6, 23, 60, 389, 612, 544, 17, 2, 238, 10, 315, 458, 9, 5, 2, 716, 78, 107, 457, 75, 124, 6, 23, 2, 238, 10, 1417, 394, 4, 256, 13, 2, 1796, 1034, 1, 34, 1, 1, 77, 1146, 4, 326, 17, 8, 128, 45, 16, 185, 5, 8, 3, 468, 15, 20, 36, 183, 46, 3, 314, 8, 19, 16, 2, 238, 77, 819, 5, 41, 17, 3, 10, 1684, 3, 115, 14, 206, 1627, 9, 343, 26, 2, 554, 8, 77, 302, 299, 136, 436, 5, 1, 175, 8, 77, 44, 16, 178, 4, 783, 62, 77, 44, 16, 269, 77, 82, 8, 62, 131, 308, 27, 252, 190, 20, 36, 3, 468, 15, 538, 54, 19, 16, 2, 238, 46, 3, 593, 4, 92, 77, 10, 544, 17, 5, 115, 136, 4, 359, 62, 3, 10, 486, 56, 77, 405, 4, 74, 5, 1078, 80, 13, 17, 7, 355, 106, 204, 3, 59, 7, 108, 26, 127, 240, 8, 216, 159, 11, 2, 185, 238, 27, 35, 166, 11, 2, 554, 1934, 187, 1, 865, 4, 541, 17, 4, 710, 20, 149, 196, 83, 2, 238, 42, 783, 2, 189, 28, 12, 45, 382, 4, 48, 56]),\n",
       "       list([1573, 1110, 3, 464, 6, 20, 127, 5, 27, 6, 1548, 213, 22, 4, 6, 490, 30, 23, 20, 127, 6, 1548, 103, 37, 577, 24, 4, 127, 5, 2, 600, 23, 44, 16, 441, 3, 151, 4, 2, 30, 5, 12, 72, 177, 22, 27, 35, 464, 13, 6, 341, 11, 55, 364, 39, 46, 3, 96, 2, 1, 121, 12, 346, 50, 177, 8, 441, 5, 2, 490, 23, 3, 27, 20, 36, 19, 11, 2, 376, 56, 3, 79, 16, 130, 351, 2, 78, 12, 82, 22, 19, 243, 12, 79, 48, 83, 22]),\n",
       "       list([3, 59, 7, 108, 26, 367, 17, 14, 671, 7, 161, 23, 20, 36, 3, 44, 16, 313, 7, 161, 23, 20, 36, 3, 61, 367, 5, 314, 8, 3, 10, 7, 917, 9, 531, 625, 5, 8, 3, 44, 16, 313, 8, 161, 23, 3, 10, 41, 8, 18, 295, 32, 29, 853, 87, 4, 2, 185, 214, 5, 8, 2, 23, 32, 29, 166, 3, 76, 59, 68, 489, 386, 9, 55, 519, 3, 257, 2, 531, 625, 165, 20, 2, 1610, 5, 103, 186, 928, 482, 4, 367, 525, 8, 2, 161, 23, 29, 166, 8, 2, 579, 29, 282, 26, 6, 25, 86, 5, 115, 8, 12, 213, 17, 489, 386, 9, 128, 937, 2, 163, 928, 108, 10, 532, 13, 21, 21, 1, 20, 40, 271, 7, 736, 80, 928, 108, 10, 532, 13, 21, 21, 1, 20, 40, 271, 28, 9, 233]),\n",
       "       ...,\n",
       "       list([3, 253, 76, 2, 270, 3, 549, 26, 1023, 46, 3, 849, 2, 162, 3, 10, 466, 307, 4, 1, 885, 361, 56, 3, 44, 50, 15, 57, 4, 410, 22, 273, 2, 57, 11, 1, 3, 151, 4, 410, 2, 270, 5, 12, 49, 191, 4, 541, 17, 4, 410, 22, 66, 3, 90, 37, 24, 139, 85, 12, 45, 1508, 17, 4, 410, 22, 39, 2, 132, 101, 47, 891, 4, 1370, 24, 3, 253, 35, 11, 5, 64, 9, 2, 1612, 14, 2, 222, 1, 122, 3, 169, 4, 410, 2, 270, 39, 3, 245, 12, 45, 130, 191, 4, 17, 64, 9, 116, 125, 78, 66, 3, 22, 393, 9, 410, 22, 3, 253, 35, 11, 14, 7, 260, 39, 3, 48, 50, 155, 143, 652, 4, 479, 2, 288, 3, 346, 50, 65, 14, 2, 162, 42, 2, 42, 2, 248, 5, 3, 48, 50, 15, 78, 4, 220, 14, 402, 54, 32, 29, 2, 98, 900, 574, 14, 17, 34, 18, 372, 6, 153, 19, 287, 168, 129, 17, 419, 63]),\n",
       "       list([156, 158, 21, 21, 247, 217, 24, 26, 6, 25, 340, 5, 230, 11, 3, 44, 16, 48, 22, 28, 3, 523, 65, 216, 25, 52, 11, 211, 224, 111, 5, 2, 23, 3, 27, 4, 441, 51, 9, 6, 23, 651, 441, 51, 9, 6, 320, 28, 1, 695, 5, 16, 102, 500, 28, 4, 123, 394, 8, 24, 5, 4, 226, 22, 618, 17, 9, 438, 13, 2, 113, 13, 289, 672, 778, 28, 7, 466, 1549, 4, 858, 20, 18, 5, 51, 2, 5, 3, 10, 16, 191, 4, 65, 14, 91, 13, 446, 3, 76, 32, 15, 252, 1297, 8, 391, 200, 733, 3, 947, 4, 62, 6, 910, 5, 3, 114, 27, 1073, 13, 21, 21, 1, 60, 1566, 501, 2, 1561, 20, 51, 9, 6, 5, 16, 116, 331, 7, 140, 12, 44, 22, 117, 18, 57, 22, 10, 116, 1293, 62, 73, 45, 16, 1073, 1994, 11, 3, 117, 883, 106, 13, 2, 113, 251, 4, 768, 18, 305, 62, 22, 1077, 51, 9, 6, 25, 5, 292, 406, 22, 10, 2, 98, 30, 3, 10, 990, 20, 34, 2, 57, 22, 10, 7, 5, 2, 533, 57, 9, 6, 626]),\n",
       "       list([1, 19, 432, 170, 147, 993, 4, 815, 13, 7, 154, 31, 187, 3, 374, 4, 36, 5, 326, 36, 3, 53, 879, 4, 65, 130, 16, 2, 966, 93, 12, 357, 14, 12, 17, 42, 326, 17, 538, 704, 3, 178, 4, 65, 3, 15, 35, 1289, 38, 36, 75, 4, 70, 30, 11, 309, 4, 561, 7, 33, 123, 84, 17, 321, 75, 4, 1, 3, 15, 115, 265, 265, 147, 14, 7, 33, 312, 574, 9, 68, 901, 4, 561, 58, 226, 3, 72, 530, 112, 36, 393, 107, 41, 73, 19, 243, 12, 72, 48, 815, 2, 211, 33, 18, 33, 19, 83, 1, 6, 181, 232, 54, 19, 16, 624, 14, 17, 4, 65, 20, 131, 459, 3, 379, 3, 15, 115, 87, 5, 87, 14, 68, 1627, 9, 350, 4, 195, 13, 7, 33, 935, 571, 14, 17, 4, 65, 62, 117, 3, 53, 879, 4, 65, 28, 3, 253, 175, 4, 36, 39, 2, 93, 12, 1032, 418, 14, 19, 547, 4, 6, 232, 5, 12, 635, 4, 129, 34, 51])],\n",
       "      dtype=object)"
      ]
     },
     "execution_count": 71,
     "metadata": {},
     "output_type": "execute_result"
    }
   ],
   "source": [
    "sequences"
   ]
  },
  {
   "cell_type": "code",
   "execution_count": 72,
   "metadata": {},
   "outputs": [],
   "source": [
    "# this will turn the sequence array into an array with\n",
    "# the 30 most common words per sequence.\n",
    "max_complaint= 30\n",
    "seq_padded = preprocessing.sequence.pad_sequences(sequences, \n",
    "                                               maxlen=max_complaint)"
   ]
  },
  {
   "cell_type": "code",
   "execution_count": 73,
   "metadata": {},
   "outputs": [],
   "source": [
    "from sklearn import preprocessing\n",
    "\n",
    "le = preprocessing.LabelEncoder()\n",
    "le.fit(product)\n",
    "list(le.classes_)\n",
    "product_cat = le.transform(product) \n",
    "product_onehot = to_categorical(product_cat)"
   ]
  },
  {
   "cell_type": "code",
   "execution_count": 75,
   "metadata": {},
   "outputs": [
    {
     "data": {
      "text/plain": [
       "(10000, 7)"
      ]
     },
     "execution_count": 75,
     "metadata": {},
     "output_type": "execute_result"
    }
   ],
   "source": [
    "np.shape(product_onehot)"
   ]
  },
  {
   "cell_type": "code",
   "execution_count": 76,
   "metadata": {},
   "outputs": [
    {
     "data": {
      "text/plain": [
       "(10000, 30)"
      ]
     },
     "execution_count": 76,
     "metadata": {},
     "output_type": "execute_result"
    }
   ],
   "source": [
    "np.shape(seq_padded)"
   ]
  },
  {
   "cell_type": "code",
   "execution_count": 90,
   "metadata": {},
   "outputs": [],
   "source": [
    "x_train, x_test, y_train, y_test = train_test_split(seq_padded,  \n",
    "            product_onehot, test_size=0.10, random_state=123)"
   ]
  },
  {
   "cell_type": "code",
   "execution_count": 98,
   "metadata": {},
   "outputs": [
    {
     "name": "stdout",
     "output_type": "stream",
     "text": [
      "_________________________________________________________________\n",
      "Layer (type)                 Output Shape              Param #   \n",
      "=================================================================\n",
      "embedding_12 (Embedding)     (None, 30, 10)            20000     \n",
      "_________________________________________________________________\n",
      "flatten_8 (Flatten)          (None, 300)               0         \n",
      "_________________________________________________________________\n",
      "dense_8 (Dense)              (None, 7)                 2107      \n",
      "=================================================================\n",
      "Total params: 22,107\n",
      "Trainable params: 22,107\n",
      "Non-trainable params: 0\n",
      "_________________________________________________________________\n",
      "Train on 7200 samples, validate on 1800 samples\n",
      "Epoch 1/30\n",
      "7200/7200 [==============================] - 1s 118us/step - loss: 1.9319 - acc: 0.1758 - val_loss: 1.9131 - val_acc: 0.2056\n",
      "Epoch 2/30\n",
      "7200/7200 [==============================] - 1s 74us/step - loss: 1.8497 - acc: 0.2528 - val_loss: 1.8230 - val_acc: 0.2661\n",
      "Epoch 3/30\n",
      "7200/7200 [==============================] - 1s 80us/step - loss: 1.7030 - acc: 0.3686 - val_loss: 1.6919 - val_acc: 0.3444\n",
      "Epoch 4/30\n",
      "7200/7200 [==============================] - 1s 77us/step - loss: 1.5415 - acc: 0.4421 - val_loss: 1.5813 - val_acc: 0.3922\n",
      "Epoch 5/30\n",
      "7200/7200 [==============================] - 1s 77us/step - loss: 1.4070 - acc: 0.5156 - val_loss: 1.5062 - val_acc: 0.4211\n",
      "Epoch 6/30\n",
      "7200/7200 [==============================] - 1s 74us/step - loss: 1.2979 - acc: 0.5682 - val_loss: 1.4545 - val_acc: 0.4372\n",
      "Epoch 7/30\n",
      "7200/7200 [==============================] - 1s 83us/step - loss: 1.2057 - acc: 0.6032 - val_loss: 1.4148 - val_acc: 0.4478\n",
      "Epoch 8/30\n",
      "7200/7200 [==============================] - 1s 75us/step - loss: 1.1259 - acc: 0.6364 - val_loss: 1.3936 - val_acc: 0.4522\n",
      "Epoch 9/30\n",
      "7200/7200 [==============================] - 1s 72us/step - loss: 1.0569 - acc: 0.6583 - val_loss: 1.3729 - val_acc: 0.4639\n",
      "Epoch 10/30\n",
      "7200/7200 [==============================] - 1s 85us/step - loss: 0.9963 - acc: 0.6837 - val_loss: 1.3662 - val_acc: 0.4683\n",
      "Epoch 11/30\n",
      "7200/7200 [==============================] - 0s 69us/step - loss: 0.9423 - acc: 0.7004 - val_loss: 1.3601 - val_acc: 0.4739\n",
      "Epoch 12/30\n",
      "7200/7200 [==============================] - 1s 77us/step - loss: 0.8940 - acc: 0.7186 - val_loss: 1.3623 - val_acc: 0.4767\n",
      "Epoch 13/30\n",
      "7200/7200 [==============================] - 1s 85us/step - loss: 0.8495 - acc: 0.7360 - val_loss: 1.3672 - val_acc: 0.4756\n",
      "Epoch 14/30\n",
      "7200/7200 [==============================] - 1s 71us/step - loss: 0.8085 - acc: 0.7492 - val_loss: 1.3752 - val_acc: 0.4789\n",
      "Epoch 15/30\n",
      "7200/7200 [==============================] - 1s 75us/step - loss: 0.7705 - acc: 0.7610 - val_loss: 1.3864 - val_acc: 0.4783\n",
      "Epoch 16/30\n",
      "7200/7200 [==============================] - 0s 67us/step - loss: 0.7352 - acc: 0.7732 - val_loss: 1.4004 - val_acc: 0.4767\n",
      "Epoch 17/30\n",
      "7200/7200 [==============================] - 1s 73us/step - loss: 0.7027 - acc: 0.7840 - val_loss: 1.4140 - val_acc: 0.4761\n",
      "Epoch 18/30\n",
      "7200/7200 [==============================] - 1s 82us/step - loss: 0.6715 - acc: 0.7933 - val_loss: 1.4295 - val_acc: 0.4772\n",
      "Epoch 19/30\n",
      "7200/7200 [==============================] - 1s 70us/step - loss: 0.6426 - acc: 0.8046 - val_loss: 1.4472 - val_acc: 0.4744\n",
      "Epoch 20/30\n",
      "7200/7200 [==============================] - 1s 73us/step - loss: 0.6153 - acc: 0.8131 - val_loss: 1.4663 - val_acc: 0.4739\n",
      "Epoch 21/30\n",
      "7200/7200 [==============================] - 0s 67us/step - loss: 0.5890 - acc: 0.8240 - val_loss: 1.4861 - val_acc: 0.4728\n",
      "Epoch 22/30\n",
      "7200/7200 [==============================] - 1s 76us/step - loss: 0.5649 - acc: 0.8349 - val_loss: 1.5089 - val_acc: 0.4717\n",
      "Epoch 23/30\n",
      "7200/7200 [==============================] - 1s 78us/step - loss: 0.5414 - acc: 0.8428 - val_loss: 1.5305 - val_acc: 0.4700\n",
      "Epoch 24/30\n",
      "7200/7200 [==============================] - 0s 69us/step - loss: 0.5190 - acc: 0.8507 - val_loss: 1.5542 - val_acc: 0.4667\n",
      "Epoch 25/30\n",
      "7200/7200 [==============================] - 1s 76us/step - loss: 0.4980 - acc: 0.8589 - val_loss: 1.5785 - val_acc: 0.4678\n",
      "Epoch 26/30\n",
      "7200/7200 [==============================] - 0s 68us/step - loss: 0.4773 - acc: 0.8642 - val_loss: 1.6004 - val_acc: 0.4667\n",
      "Epoch 27/30\n",
      "7200/7200 [==============================] - 0s 69us/step - loss: 0.4580 - acc: 0.8718 - val_loss: 1.6283 - val_acc: 0.4644\n",
      "Epoch 28/30\n",
      "7200/7200 [==============================] - 1s 69us/step - loss: 0.4390 - acc: 0.8796 - val_loss: 1.6536 - val_acc: 0.4633\n",
      "Epoch 29/30\n",
      "7200/7200 [==============================] - 0s 67us/step - loss: 0.4214 - acc: 0.8861 - val_loss: 1.6852 - val_acc: 0.4583\n",
      "Epoch 30/30\n",
      "7200/7200 [==============================] - 0s 69us/step - loss: 0.4047 - acc: 0.8922 - val_loss: 1.7093 - val_acc: 0.4606\n"
     ]
    }
   ],
   "source": [
    "model = Sequential()\n",
    "model.add(Embedding(2000, 10, input_length = max_complaint))\n",
    "model.add(Flatten())\n",
    "model.add(Dense(7, activation='softmax'))\n",
    "model.compile(optimizer='rmsprop', loss='categorical_crossentropy', metrics=['acc'])\n",
    "model.summary()\n",
    "history = model.fit(x_train, y_train, epochs=30,\n",
    "batch_size=32, validation_split=0.2)"
   ]
  },
  {
   "cell_type": "markdown",
   "metadata": {},
   "source": [
    "### 1.1.3 convert the products to numerical categories"
   ]
  },
  {
   "cell_type": "code",
   "execution_count": 57,
   "metadata": {},
   "outputs": [
    {
     "data": {
      "text/plain": [
       "array([[1., 0., 0., ..., 0., 0., 0.],\n",
       "       [1., 0., 0., ..., 0., 0., 0.],\n",
       "       [0., 0., 0., ..., 0., 0., 1.],\n",
       "       ...,\n",
       "       [1., 0., 0., ..., 0., 0., 0.],\n",
       "       [0., 0., 0., ..., 0., 0., 0.],\n",
       "       [0., 0., 0., ..., 0., 0., 1.]])"
      ]
     },
     "execution_count": 57,
     "metadata": {},
     "output_type": "execute_result"
    }
   ],
   "source": [
    "np.shape(product_onehot)"
   ]
  },
  {
   "cell_type": "markdown",
   "metadata": {},
   "source": [
    "### 1.1.4 Train - test split"
   ]
  },
  {
   "cell_type": "code",
   "execution_count": 25,
   "metadata": {},
   "outputs": [],
   "source": [
    "import random\n",
    "random.seed(123)\n",
    "test_index = random.sample(range(1,10000), 1500)"
   ]
  },
  {
   "cell_type": "markdown",
   "metadata": {},
   "source": [
    "Create a test and a training set"
   ]
  },
  {
   "cell_type": "code",
   "execution_count": 26,
   "metadata": {},
   "outputs": [],
   "source": [
    "test = one_hot_results[test_index]\n",
    "train = np.delete(one_hot_results, test_index, 0)"
   ]
  },
  {
   "cell_type": "code",
   "execution_count": 27,
   "metadata": {},
   "outputs": [],
   "source": [
    "label_test = product_onehot[test_index]\n",
    "label_train = np.delete(product_onehot, test_index, 0)"
   ]
  },
  {
   "cell_type": "code",
   "execution_count": 28,
   "metadata": {},
   "outputs": [
    {
     "name": "stdout",
     "output_type": "stream",
     "text": [
      "(1500, 7)\n",
      "(8500, 7)\n",
      "(1500, 2000)\n",
      "(8500, 2000)\n"
     ]
    }
   ],
   "source": [
    "print(np.shape(label_test))\n",
    "print(np.shape(label_train))\n",
    "print(np.shape(test))\n",
    "print(np.shape(train))"
   ]
  },
  {
   "cell_type": "markdown",
   "metadata": {},
   "source": [
    "# 1.2 Building the network"
   ]
  },
  {
   "cell_type": "markdown",
   "metadata": {},
   "source": [
    "Let's build a fully connected (Dense) layer network with relu activations in Keras. You can do this using: `Dense(16, activation='relu')`."
   ]
  },
  {
   "cell_type": "markdown",
   "metadata": {},
   "source": [
    "In this examples, use 2 hidden with 50 units in the first layer and 25 in the second, both with a `relu` activation function. Because we are dealing with a multiclass problem (classifying the complaints into 7 ), we use a use a softmax classifyer in order to output 7 class probabilities per case."
   ]
  },
  {
   "cell_type": "code",
   "execution_count": 29,
   "metadata": {},
   "outputs": [],
   "source": [
    "from keras import models\n",
    "from keras import layers\n",
    "model = models.Sequential()\n",
    "model.add(layers.Dense(50, activation='relu', input_shape=(2000,))) #2 hidden layers\n",
    "model.add(layers.Dense(25, activation='relu'))\n",
    "model.add(layers.Dense(7, activation='softmax'))"
   ]
  },
  {
   "cell_type": "markdown",
   "metadata": {},
   "source": [
    "### 1.3 Compiling the model and look at the results"
   ]
  },
  {
   "cell_type": "code",
   "execution_count": 30,
   "metadata": {},
   "outputs": [],
   "source": [
    "model.compile(optimizer='SGD',\n",
    "              loss='categorical_crossentropy',\n",
    "              metrics=['accuracy'])"
   ]
  },
  {
   "cell_type": "markdown",
   "metadata": {},
   "source": [
    "In the compiler, you'll be passing the optimizer (SGD = stochastic gradient descent), loss function, and metrics. Train the model for 120 epochs in mini-batches of 256 samples."
   ]
  },
  {
   "cell_type": "code",
   "execution_count": 31,
   "metadata": {},
   "outputs": [
    {
     "name": "stdout",
     "output_type": "stream",
     "text": [
      "Epoch 1/120\n",
      "8500/8500 [==============================] - 1s 73us/step - loss: 1.9436 - acc: 0.1508\n",
      "Epoch 2/120\n",
      "8500/8500 [==============================] - 0s 44us/step - loss: 1.9248 - acc: 0.1656\n",
      "Epoch 3/120\n",
      "8500/8500 [==============================] - 0s 41us/step - loss: 1.9070 - acc: 0.1867\n",
      "Epoch 4/120\n",
      "8500/8500 [==============================] - 0s 42us/step - loss: 1.8885 - acc: 0.2155\n",
      "Epoch 5/120\n",
      "8500/8500 [==============================] - 0s 43us/step - loss: 1.8673 - acc: 0.2448\n",
      "Epoch 6/120\n",
      "8500/8500 [==============================] - 0s 43us/step - loss: 1.8428 - acc: 0.2746\n",
      "Epoch 7/120\n",
      "8500/8500 [==============================] - 0s 41us/step - loss: 1.8141 - acc: 0.3031\n",
      "Epoch 8/120\n",
      "8500/8500 [==============================] - 0s 45us/step - loss: 1.7809 - acc: 0.3322\n",
      "Epoch 9/120\n",
      "8500/8500 [==============================] - 0s 43us/step - loss: 1.7423 - acc: 0.3611\n",
      "Epoch 10/120\n",
      "8500/8500 [==============================] - 0s 45us/step - loss: 1.6976 - acc: 0.3942\n",
      "Epoch 11/120\n",
      "8500/8500 [==============================] - 0s 42us/step - loss: 1.6471 - acc: 0.4288\n",
      "Epoch 12/120\n",
      "8500/8500 [==============================] - 0s 50us/step - loss: 1.5919 - acc: 0.4638\n",
      "Epoch 13/120\n",
      "8500/8500 [==============================] - 0s 46us/step - loss: 1.5334 - acc: 0.4882\n",
      "Epoch 14/120\n",
      "8500/8500 [==============================] - 0s 46us/step - loss: 1.4734 - acc: 0.5191\n",
      "Epoch 15/120\n",
      "8500/8500 [==============================] - 0s 49us/step - loss: 1.4137 - acc: 0.5505\n",
      "Epoch 16/120\n",
      "8500/8500 [==============================] - 0s 48us/step - loss: 1.3544 - acc: 0.5740\n",
      "Epoch 17/120\n",
      "8500/8500 [==============================] - 0s 44us/step - loss: 1.2968 - acc: 0.6012\n",
      "Epoch 18/120\n",
      "8500/8500 [==============================] - 0s 51us/step - loss: 1.2416 - acc: 0.6255\n",
      "Epoch 19/120\n",
      "8500/8500 [==============================] - 0s 46us/step - loss: 1.1890 - acc: 0.6414\n",
      "Epoch 20/120\n",
      "8500/8500 [==============================] - 0s 49us/step - loss: 1.1394 - acc: 0.6621\n",
      "Epoch 21/120\n",
      "8500/8500 [==============================] - 0s 41us/step - loss: 1.0928 - acc: 0.6732\n",
      "Epoch 22/120\n",
      "8500/8500 [==============================] - 0s 45us/step - loss: 1.0497 - acc: 0.6855\n",
      "Epoch 23/120\n",
      "8500/8500 [==============================] - 0s 46us/step - loss: 1.0095 - acc: 0.6954\n",
      "Epoch 24/120\n",
      "8500/8500 [==============================] - 0s 45us/step - loss: 0.9728 - acc: 0.7044\n",
      "Epoch 25/120\n",
      "8500/8500 [==============================] - 0s 48us/step - loss: 0.9385 - acc: 0.7129\n",
      "Epoch 26/120\n",
      "8500/8500 [==============================] - 0s 45us/step - loss: 0.9075 - acc: 0.7222\n",
      "Epoch 27/120\n",
      "8500/8500 [==============================] - 0s 48us/step - loss: 0.8792 - acc: 0.7259\n",
      "Epoch 28/120\n",
      "8500/8500 [==============================] - 0s 44us/step - loss: 0.8536 - acc: 0.7294\n",
      "Epoch 29/120\n",
      "8500/8500 [==============================] - 0s 43us/step - loss: 0.8294 - acc: 0.7369\n",
      "Epoch 30/120\n",
      "8500/8500 [==============================] - 0s 46us/step - loss: 0.8079 - acc: 0.7408\n",
      "Epoch 31/120\n",
      "8500/8500 [==============================] - 0s 46us/step - loss: 0.7881 - acc: 0.7454\n",
      "Epoch 32/120\n",
      "8500/8500 [==============================] - 0s 43us/step - loss: 0.7693 - acc: 0.7478\n",
      "Epoch 33/120\n",
      "8500/8500 [==============================] - 0s 45us/step - loss: 0.7524 - acc: 0.7512\n",
      "Epoch 34/120\n",
      "8500/8500 [==============================] - 0s 49us/step - loss: 0.7367 - acc: 0.7560\n",
      "Epoch 35/120\n",
      "8500/8500 [==============================] - 0s 49us/step - loss: 0.7222 - acc: 0.7591\n",
      "Epoch 36/120\n",
      "8500/8500 [==============================] - 0s 50us/step - loss: 0.7084 - acc: 0.7608\n",
      "Epoch 37/120\n",
      "8500/8500 [==============================] - 0s 43us/step - loss: 0.6956 - acc: 0.7656\n",
      "Epoch 38/120\n",
      "8500/8500 [==============================] - 0s 48us/step - loss: 0.6836 - acc: 0.7687\n",
      "Epoch 39/120\n",
      "8500/8500 [==============================] - 0s 49us/step - loss: 0.6725 - acc: 0.7694\n",
      "Epoch 40/120\n",
      "8500/8500 [==============================] - 0s 47us/step - loss: 0.6620 - acc: 0.7713\n",
      "Epoch 41/120\n",
      "8500/8500 [==============================] - 0s 44us/step - loss: 0.6519 - acc: 0.7760\n",
      "Epoch 42/120\n",
      "8500/8500 [==============================] - 0s 47us/step - loss: 0.6423 - acc: 0.7789\n",
      "Epoch 43/120\n",
      "8500/8500 [==============================] - 0s 45us/step - loss: 0.6336 - acc: 0.7809\n",
      "Epoch 44/120\n",
      "8500/8500 [==============================] - 0s 42us/step - loss: 0.6244 - acc: 0.7831\n",
      "Epoch 45/120\n",
      "8500/8500 [==============================] - 0s 42us/step - loss: 0.6166 - acc: 0.7858\n",
      "Epoch 46/120\n",
      "8500/8500 [==============================] - 0s 51us/step - loss: 0.6090 - acc: 0.7869\n",
      "Epoch 47/120\n",
      "8500/8500 [==============================] - 0s 42us/step - loss: 0.6013 - acc: 0.7896\n",
      "Epoch 48/120\n",
      "8500/8500 [==============================] - 0s 46us/step - loss: 0.5939 - acc: 0.7936\n",
      "Epoch 49/120\n",
      "8500/8500 [==============================] - 0s 52us/step - loss: 0.5872 - acc: 0.7947\n",
      "Epoch 50/120\n",
      "8500/8500 [==============================] - 0s 50us/step - loss: 0.5805 - acc: 0.7964\n",
      "Epoch 51/120\n",
      "8500/8500 [==============================] - 0s 48us/step - loss: 0.5738 - acc: 0.7991\n",
      "Epoch 52/120\n",
      "8500/8500 [==============================] - 0s 45us/step - loss: 0.5677 - acc: 0.8011\n",
      "Epoch 53/120\n",
      "8500/8500 [==============================] - 0s 43us/step - loss: 0.5615 - acc: 0.8041\n",
      "Epoch 54/120\n",
      "8500/8500 [==============================] - 0s 47us/step - loss: 0.5558 - acc: 0.8058\n",
      "Epoch 55/120\n",
      "8500/8500 [==============================] - 0s 46us/step - loss: 0.5501 - acc: 0.8074\n",
      "Epoch 56/120\n",
      "8500/8500 [==============================] - 0s 43us/step - loss: 0.5447 - acc: 0.8114\n",
      "Epoch 57/120\n",
      "8500/8500 [==============================] - 0s 47us/step - loss: 0.5387 - acc: 0.8109\n",
      "Epoch 58/120\n",
      "8500/8500 [==============================] - 0s 52us/step - loss: 0.5335 - acc: 0.8119\n",
      "Epoch 59/120\n",
      "8500/8500 [==============================] - 0s 44us/step - loss: 0.5286 - acc: 0.8141\n",
      "Epoch 60/120\n",
      "8500/8500 [==============================] - 0s 47us/step - loss: 0.5244 - acc: 0.8167\n",
      "Epoch 61/120\n",
      "8500/8500 [==============================] - 0s 48us/step - loss: 0.5184 - acc: 0.8185\n",
      "Epoch 62/120\n",
      "8500/8500 [==============================] - 0s 46us/step - loss: 0.5143 - acc: 0.8194\n",
      "Epoch 63/120\n",
      "8500/8500 [==============================] - 0s 47us/step - loss: 0.5097 - acc: 0.8216\n",
      "Epoch 64/120\n",
      "8500/8500 [==============================] - 0s 47us/step - loss: 0.5047 - acc: 0.8239\n",
      "Epoch 65/120\n",
      "8500/8500 [==============================] - 0s 46us/step - loss: 0.5002 - acc: 0.8266\n",
      "Epoch 66/120\n",
      "8500/8500 [==============================] - 0s 45us/step - loss: 0.4959 - acc: 0.8280\n",
      "Epoch 67/120\n",
      "8500/8500 [==============================] - 0s 42us/step - loss: 0.4915 - acc: 0.8286\n",
      "Epoch 68/120\n",
      "8500/8500 [==============================] - 0s 42us/step - loss: 0.4867 - acc: 0.8301\n",
      "Epoch 69/120\n",
      "8500/8500 [==============================] - 0s 45us/step - loss: 0.4827 - acc: 0.8328\n",
      "Epoch 70/120\n",
      "8500/8500 [==============================] - 0s 43us/step - loss: 0.4785 - acc: 0.8347\n",
      "Epoch 71/120\n",
      "8500/8500 [==============================] - 0s 40us/step - loss: 0.4749 - acc: 0.8358\n",
      "Epoch 72/120\n",
      "8500/8500 [==============================] - 0s 42us/step - loss: 0.4705 - acc: 0.8368\n",
      "Epoch 73/120\n",
      "8500/8500 [==============================] - 0s 44us/step - loss: 0.4666 - acc: 0.8379\n",
      "Epoch 74/120\n",
      "8500/8500 [==============================] - 0s 46us/step - loss: 0.4628 - acc: 0.8413\n",
      "Epoch 75/120\n",
      "8500/8500 [==============================] - 0s 47us/step - loss: 0.4593 - acc: 0.8418\n",
      "Epoch 76/120\n",
      "8500/8500 [==============================] - 0s 47us/step - loss: 0.4554 - acc: 0.8416\n",
      "Epoch 77/120\n",
      "8500/8500 [==============================] - 0s 46us/step - loss: 0.4519 - acc: 0.8454\n",
      "Epoch 78/120\n",
      "8500/8500 [==============================] - 0s 44us/step - loss: 0.4478 - acc: 0.8473\n",
      "Epoch 79/120\n",
      "8500/8500 [==============================] - 0s 42us/step - loss: 0.4444 - acc: 0.8469\n",
      "Epoch 80/120\n",
      "8500/8500 [==============================] - 0s 51us/step - loss: 0.4404 - acc: 0.8508\n",
      "Epoch 81/120\n",
      "8500/8500 [==============================] - 0s 43us/step - loss: 0.4375 - acc: 0.8511\n",
      "Epoch 82/120\n",
      "8500/8500 [==============================] - 0s 44us/step - loss: 0.4341 - acc: 0.8527\n",
      "Epoch 83/120\n"
     ]
    },
    {
     "name": "stdout",
     "output_type": "stream",
     "text": [
      "8500/8500 [==============================] - 0s 44us/step - loss: 0.4305 - acc: 0.8555\n",
      "Epoch 84/120\n",
      "8500/8500 [==============================] - 0s 48us/step - loss: 0.4269 - acc: 0.8565\n",
      "Epoch 85/120\n",
      "8500/8500 [==============================] - 0s 49us/step - loss: 0.4238 - acc: 0.8588\n",
      "Epoch 86/120\n",
      "8500/8500 [==============================] - 0s 41us/step - loss: 0.4208 - acc: 0.8581\n",
      "Epoch 87/120\n",
      "8500/8500 [==============================] - 0s 44us/step - loss: 0.4173 - acc: 0.8599\n",
      "Epoch 88/120\n",
      "8500/8500 [==============================] - 0s 45us/step - loss: 0.4145 - acc: 0.8629\n",
      "Epoch 89/120\n",
      "8500/8500 [==============================] - 0s 47us/step - loss: 0.4106 - acc: 0.8626\n",
      "Epoch 90/120\n",
      "8500/8500 [==============================] - 0s 52us/step - loss: 0.4079 - acc: 0.8633\n",
      "Epoch 91/120\n",
      "8500/8500 [==============================] - 0s 42us/step - loss: 0.4044 - acc: 0.8649\n",
      "Epoch 92/120\n",
      "8500/8500 [==============================] - 0s 52us/step - loss: 0.4018 - acc: 0.8676\n",
      "Epoch 93/120\n",
      "8500/8500 [==============================] - 0s 45us/step - loss: 0.3990 - acc: 0.8699\n",
      "Epoch 94/120\n",
      "8500/8500 [==============================] - 0s 44us/step - loss: 0.3956 - acc: 0.8692\n",
      "Epoch 95/120\n",
      "8500/8500 [==============================] - 0s 47us/step - loss: 0.3925 - acc: 0.8713\n",
      "Epoch 96/120\n",
      "8500/8500 [==============================] - 0s 48us/step - loss: 0.3900 - acc: 0.8716\n",
      "Epoch 97/120\n",
      "8500/8500 [==============================] - 0s 48us/step - loss: 0.3868 - acc: 0.8719\n",
      "Epoch 98/120\n",
      "8500/8500 [==============================] - 0s 41us/step - loss: 0.3838 - acc: 0.8740\n",
      "Epoch 99/120\n",
      "8500/8500 [==============================] - 0s 45us/step - loss: 0.3811 - acc: 0.8740\n",
      "Epoch 100/120\n",
      "8500/8500 [==============================] - 0s 47us/step - loss: 0.3788 - acc: 0.8740\n",
      "Epoch 101/120\n",
      "8500/8500 [==============================] - 0s 45us/step - loss: 0.3761 - acc: 0.8758\n",
      "Epoch 102/120\n",
      "8500/8500 [==============================] - 0s 43us/step - loss: 0.3730 - acc: 0.8786\n",
      "Epoch 103/120\n",
      "8500/8500 [==============================] - 0s 45us/step - loss: 0.3703 - acc: 0.8796\n",
      "Epoch 104/120\n",
      "8500/8500 [==============================] - 0s 43us/step - loss: 0.3680 - acc: 0.8788\n",
      "Epoch 105/120\n",
      "8500/8500 [==============================] - 0s 43us/step - loss: 0.3652 - acc: 0.8791\n",
      "Epoch 106/120\n",
      "8500/8500 [==============================] - 0s 42us/step - loss: 0.3625 - acc: 0.8798\n",
      "Epoch 107/120\n",
      "8500/8500 [==============================] - 0s 43us/step - loss: 0.3608 - acc: 0.8813\n",
      "Epoch 108/120\n",
      "8500/8500 [==============================] - 0s 41us/step - loss: 0.3573 - acc: 0.8824\n",
      "Epoch 109/120\n",
      "8500/8500 [==============================] - 0s 41us/step - loss: 0.3544 - acc: 0.8868\n",
      "Epoch 110/120\n",
      "8500/8500 [==============================] - 0s 42us/step - loss: 0.3523 - acc: 0.8854\n",
      "Epoch 111/120\n",
      "8500/8500 [==============================] - 0s 43us/step - loss: 0.3494 - acc: 0.8888\n",
      "Epoch 112/120\n",
      "8500/8500 [==============================] - 0s 42us/step - loss: 0.3471 - acc: 0.8871\n",
      "Epoch 113/120\n",
      "8500/8500 [==============================] - 0s 43us/step - loss: 0.3443 - acc: 0.8908\n",
      "Epoch 114/120\n",
      "8500/8500 [==============================] - 0s 43us/step - loss: 0.3421 - acc: 0.8888\n",
      "Epoch 115/120\n",
      "8500/8500 [==============================] - 0s 45us/step - loss: 0.3394 - acc: 0.8908\n",
      "Epoch 116/120\n",
      "8500/8500 [==============================] - 0s 44us/step - loss: 0.3373 - acc: 0.8920\n",
      "Epoch 117/120\n",
      "8500/8500 [==============================] - 0s 43us/step - loss: 0.3351 - acc: 0.8920\n",
      "Epoch 118/120\n",
      "8500/8500 [==============================] - 0s 46us/step - loss: 0.3324 - acc: 0.8940\n",
      "Epoch 119/120\n",
      "8500/8500 [==============================] - 0s 49us/step - loss: 0.3306 - acc: 0.8952\n",
      "Epoch 120/120\n",
      "8500/8500 [==============================] - 0s 46us/step - loss: 0.3279 - acc: 0.8960\n"
     ]
    }
   ],
   "source": [
    "history = model.fit(train,\n",
    "                    label_train,\n",
    "                    epochs=120,\n",
    "                    batch_size=256)"
   ]
  },
  {
   "cell_type": "markdown",
   "metadata": {},
   "source": [
    "The dictionary `history` two four entries:the loss and the accuracy achieved using the training set."
   ]
  },
  {
   "cell_type": "code",
   "execution_count": 40,
   "metadata": {},
   "outputs": [
    {
     "data": {
      "text/plain": [
       "dict_keys(['loss', 'acc'])"
      ]
     },
     "execution_count": 40,
     "metadata": {},
     "output_type": "execute_result"
    }
   ],
   "source": [
    "history_dict = history.history\n",
    "history_dict.keys()"
   ]
  },
  {
   "cell_type": "markdown",
   "metadata": {},
   "source": [
    "### 1.5 Plot the results"
   ]
  },
  {
   "cell_type": "code",
   "execution_count": 33,
   "metadata": {},
   "outputs": [
    {
     "data": {
      "image/png": "[encoded data removed]",
      "text/plain": [
       "<matplotlib.figure.Figure at 0x10c5ee828>"
      ]
     },
     "metadata": {},
     "output_type": "display_data"
    }
   ],
   "source": [
    "plt.clf()\n",
    "\n",
    "import matplotlib.pyplot as plt\n",
    "history_dict = history.history\n",
    "loss_values = history_dict['loss']\n",
    "\n",
    "epochs = range(1, len(loss_values) + 1)\n",
    "plt.plot(epochs, loss_values, 'g', label='Training loss')\n",
    "\n",
    "plt.title('Training loss')\n",
    "plt.xlabel('Epochs')\n",
    "plt.ylabel('Loss')\n",
    "plt.legend()\n",
    "plt.show()"
   ]
  },
  {
   "cell_type": "code",
   "execution_count": 34,
   "metadata": {},
   "outputs": [
    {
     "data": {
      "image/png": "[encoded data removed]",
      "text/plain": [
       "<matplotlib.figure.Figure at 0x10e143828>"
      ]
     },
     "metadata": {},
     "output_type": "display_data"
    }
   ],
   "source": [
    "plt.clf()\n",
    "\n",
    "acc_values = history_dict['acc'] \n",
    "\n",
    "plt.plot(epochs, acc_values, 'r', label='Training acc')\n",
    "plt.title('Training accuracy')\n",
    "plt.xlabel('Epochs')\n",
    "plt.ylabel('Loss')\n",
    "plt.legend()\n",
    "plt.show()"
   ]
  },
  {
   "cell_type": "markdown",
   "metadata": {},
   "source": [
    "It seems like we could just keep on going and accuracy would go up!"
   ]
  },
  {
   "cell_type": "markdown",
   "metadata": {},
   "source": [
    "### 1.6 Make predictions"
   ]
  },
  {
   "cell_type": "code",
   "execution_count": 35,
   "metadata": {},
   "outputs": [
    {
     "data": {
      "text/plain": [
       "array([[1.06151097e-01, 8.72494001e-03, 9.37283877e-03, ...,\n",
       "        2.33645295e-03, 8.40648636e-03, 4.21141041e-03],\n",
       "       [2.41936068e-04, 1.69532810e-04, 2.00180747e-02, ...,\n",
       "        7.21346005e-04, 9.78354275e-01, 4.66292171e-04],\n",
       "       [9.07349866e-03, 3.46302823e-03, 6.77565277e-01, ...,\n",
       "        3.38084972e-03, 5.10880537e-02, 2.39690319e-01],\n",
       "       ...,\n",
       "       [1.32557216e-06, 5.79976387e-08, 5.86538634e-04, ...,\n",
       "        6.85194391e-05, 5.04806849e-05, 9.99173701e-01],\n",
       "       [4.87261534e-01, 4.84817386e-01, 1.04790460e-02, ...,\n",
       "        1.14200826e-04, 2.48147408e-03, 2.99849897e-04],\n",
       "       [1.54565871e-01, 5.48717007e-02, 6.23438284e-02, ...,\n",
       "        6.70262501e-02, 3.82260531e-02, 6.01423625e-03]], dtype=float32)"
      ]
     },
     "execution_count": 35,
     "metadata": {},
     "output_type": "execute_result"
    }
   ],
   "source": [
    "model.predict(test)"
   ]
  },
  {
   "cell_type": "code",
   "execution_count": 36,
   "metadata": {},
   "outputs": [
    {
     "name": "stdout",
     "output_type": "stream",
     "text": [
      "8500/8500 [==============================] - 1s 59us/step\n"
     ]
    }
   ],
   "source": [
    "results_train = model.evaluate(train, label_train)"
   ]
  },
  {
   "cell_type": "code",
   "execution_count": 37,
   "metadata": {},
   "outputs": [
    {
     "name": "stdout",
     "output_type": "stream",
     "text": [
      "1500/1500 [==============================] - 0s 61us/step\n"
     ]
    }
   ],
   "source": [
    "results_test = model.evaluate(test, label_test)"
   ]
  },
  {
   "cell_type": "code",
   "execution_count": 38,
   "metadata": {},
   "outputs": [
    {
     "data": {
      "text/plain": [
       "[0.32630365138895373, 0.8941176470307742]"
      ]
     },
     "execution_count": 38,
     "metadata": {},
     "output_type": "execute_result"
    }
   ],
   "source": [
    "results_train"
   ]
  },
  {
   "cell_type": "code",
   "execution_count": 39,
   "metadata": {},
   "outputs": [
    {
     "data": {
      "text/plain": [
       "[0.6355742130279541, 0.7619999996821085]"
      ]
     },
     "execution_count": 39,
     "metadata": {},
     "output_type": "execute_result"
    }
   ],
   "source": [
    "results_test"
   ]
  },
  {
   "cell_type": "markdown",
   "metadata": {},
   "source": [
    "We can see that the training set results are really good (a 89.4% classification accuracy!), but the test set results lag behind. In the next lab. We'll talk a little more about this in the next lecture, and will discuss how we can get better test set results as well!"
   ]
  },
  {
   "cell_type": "markdown",
   "metadata": {},
   "source": [
    "# SOURCES"
   ]
  },
  {
   "cell_type": "markdown",
   "metadata": {},
   "source": [
    "https://github.com/susanli2016/Machine-Learning-with-Python/blob/master/Consumer_complaints.ipynb"
   ]
  },
  {
   "cell_type": "markdown",
   "metadata": {},
   "source": [
    "https://catalog.data.gov/dataset/consumer-complaint-database"
   ]
  }
 ],
 "metadata": {
  "kernelspec": {
   "display_name": "Python 3",
   "language": "python",
   "name": "python3"
  },
  "language_info": {
   "codemirror_mode": {
    "name": "ipython",
    "version": 3
   },
   "file_extension": ".py",
   "mimetype": "text/x-python",
   "name": "python",
   "nbconvert_exporter": "python",
   "pygments_lexer": "ipython3",
   "version": "3.6.4"
  }
 },
 "nbformat": 4,
 "nbformat_minor": 2
}
